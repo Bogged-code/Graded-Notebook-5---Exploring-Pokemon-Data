{
  "cells": [
    {
      "cell_type": "markdown",
      "metadata": {
        "id": "UOuEhwbknHLN"
      },
      "source": [
        "## Data Cleaning\n",
        "\n",
        "In this Notebook, we will be using a revised version of the [Pokemon Dataset](https://www.kaggle.com/mariotormo/complete-pokemon-dataset-updated-090420), purposefully dirtied for the purpose of performing data cleaning. Additionally, some columns were also omitted for this notebook.\n",
        "\n",
        "Our Notebooks in DATA100 are designed to be guided learning activities. To use them, simply go through the cells from top to bottom, following the directions along the way. If you find any unclear parts or mistakes in the Notebooks, email your instructor."
      ]
    },
    {
      "cell_type": "markdown",
      "metadata": {
        "id": "WKywY_VbnHLR"
      },
      "source": [
        "## Instructions\n",
        "* Read each cell and implement the TODOs sequentially. The markdown/text cells also contain instructions which you need to follow to get the whole notebook working.\n",
        "* Do not change the variable names unless the instructor allows you to.\n",
        "* You are expected to search how to some functions work on the Internet or via the docs.\n",
        "* The notebooks will undergo a 'Restart and Run All' command, so make sure that your code is working properly.\n",
        "* You are expected to understand the dataset loading and processing separately from this class.\n",
        "* You may not reproduce this notebook or share them to anyone."
      ]
    },
    {
      "cell_type": "markdown",
      "metadata": {
        "id": "wSu0al0lnHLS"
      },
      "source": [
        "## Import\n",
        "Import **numpy** and **pandas**.\n",
        "\n",
        "[**`pandas`**](https://pandas.pydata.org/pandas-docs/stable/index.html) is a software library for Python which provides data structures and data analysis tools."
      ]
    },
    {
      "cell_type": "code",
      "execution_count": null,
      "metadata": {
        "id": "A0EXE-6UnHLU"
      },
      "outputs": [],
      "source": [
        "import numpy as np\n",
        "import pandas as pd"
      ]
    },
    {
      "cell_type": "markdown",
      "metadata": {
        "id": "n7viTbWknHLV"
      },
      "source": [
        "## The Dataset\n",
        "\n",
        "The Pokemon dataset contains 890 known pokemon until 8th Generation and its varieties.\n",
        "\n",
        "The dataset is provided to you as a `.csv` file. `.csv` means comma-separated values. You can open the file in Notepad to see how it is exactly formatted"
      ]
    },
    {
      "cell_type": "markdown",
      "metadata": {
        "id": "5-2r2-DdnHLW"
      },
      "source": [
        "If you view the `.csv` file in Excel, you can see that our dataset contains many **observations** (rows) across 48 **variables** (columns). An observation corresponds to a Pokemon (or a variant of it), and the variables correspond to the attributes of that Pokemon. We will describe what some of the columns mean as we go through this notebook."
      ]
    },
    {
      "cell_type": "markdown",
      "metadata": {
        "id": "xCK9-R54nHLW"
      },
      "source": [
        "## Reading the Dataset\n",
        "Our first step is to load the dataset using pandas. This will load the dataset into a pandas `DataFrame`. To load the dataset, we use the [`read_csv`](https://pandas.pydata.org/pandas-docs/stable/reference/api/pandas.read_csv.html) function. Note that you may need to change the path depending on the location of the file in your machine."
      ]
    },
    {
      "cell_type": "code",
      "execution_count": null,
      "metadata": {
        "id": "h7OlLxBknHLX"
      },
      "outputs": [],
      "source": [
        "pokemon_df = pd.read_csv(\"pokedex.csv\")"
      ]
    },
    {
      "cell_type": "markdown",
      "metadata": {
        "id": "01yOT0CznHLX"
      },
      "source": [
        "Whenever we load a new dataset, it is generally a good idea to call the [`info`](https://pandas.pydata.org/pandas-docs/stable/reference/api/pandas.DataFrame.info.html) function, which displays general information about the dataset."
      ]
    },
    {
      "cell_type": "code",
      "execution_count": null,
      "metadata": {
        "id": "MWWbbxH2nHLX",
        "colab": {
          "base_uri": "https://localhost:8080/"
        },
        "outputId": "0936767a-5180-478c-e0b5-b552fbe04769"
      },
      "outputs": [
        {
          "output_type": "stream",
          "name": "stdout",
          "text": [
            "<class 'pandas.core.frame.DataFrame'>\n",
            "RangeIndex: 1028 entries, 0 to 1027\n",
            "Data columns (total 20 columns):\n",
            " #   Column            Non-Null Count  Dtype  \n",
            "---  ------            --------------  -----  \n",
            " 0   Unnamed: 0        1028 non-null   int64  \n",
            " 1   pokedex_number    1028 non-null   int64  \n",
            " 2   name              1028 non-null   object \n",
            " 3   generation        1028 non-null   int64  \n",
            " 4   status            1028 non-null   object \n",
            " 5   species           1028 non-null   object \n",
            " 6   type_number       1028 non-null   int64  \n",
            " 7   type_1            1028 non-null   object \n",
            " 8   type_2            542 non-null    object \n",
            " 9   height_m          1028 non-null   float64\n",
            " 10  weight_kg         1027 non-null   float64\n",
            " 11  abilities_number  1028 non-null   int64  \n",
            " 12  ability_1         1025 non-null   object \n",
            " 13  total_points      1028 non-null   int64  \n",
            " 14  hp                921 non-null    float64\n",
            " 15  attack            1026 non-null   float64\n",
            " 16  defense           842 non-null    float64\n",
            " 17  sp_attack         1025 non-null   float64\n",
            " 18  sp_defense        1027 non-null   float64\n",
            " 19  speed             1026 non-null   float64\n",
            "dtypes: float64(8), int64(6), object(6)\n",
            "memory usage: 160.8+ KB\n"
          ]
        }
      ],
      "source": [
        "pokemon_df.info()"
      ]
    },
    {
      "cell_type": "markdown",
      "metadata": {
        "id": "-VMUoCb2nHLX"
      },
      "source": [
        "## Cleaning the Dataset\n",
        "Before we can start exploring our dataset, we have to clean it first in case there are inconsistencies that may incur problems in analysis.\n",
        "\n",
        "Throughout the notebook, we will look at certain scenarios and see whether we should clean the relevant variables or not.\n",
        "\n",
        "*We won't actually perform the analysis for this notebook. Exploratory Data Analysis will be discussed in the next notebook.*"
      ]
    },
    {
      "cell_type": "markdown",
      "metadata": {
        "id": "1RNw3d34nHLY"
      },
      "source": [
        "## Scenario:\n",
        "\n",
        "Let's say that we want to see **the distribution of the pokemons' statuses for a given generation**. For this, we would use the variables:\n",
        "- **`generation`**: numbered generation which the Pokemon was first introduced\n",
        "- **`status`**: denotes if the Pokemon is normal, sub legendary, legendary or mythical. (We can think of this as the Pokemon's group)\n",
        "\n",
        "Thus, we should inspect these columns and see if these need cleaning."
      ]
    },
    {
      "cell_type": "markdown",
      "metadata": {
        "id": "9dcCiNnBnHLY"
      },
      "source": [
        "### `generation` variable\n",
        "The pokemon series has 8 generations as of date, with the newest generation being Pokemon Sword and Shield. As such, we can expect that the possible values for the `generation` column are the whole numbers 1 to 8.\n",
        "Use the [`unique`](https://pandas.pydata.org/pandas-docs/stable/reference/api/pandas.Series.unique.html) function to list all unique values for this variable."
      ]
    },
    {
      "cell_type": "code",
      "execution_count": null,
      "metadata": {
        "id": "lm1eZOO2nHLY",
        "colab": {
          "base_uri": "https://localhost:8080/"
        },
        "outputId": "e21b48f9-0cb9-46bc-db16-11b143a23791"
      },
      "outputs": [
        {
          "output_type": "execute_result",
          "data": {
            "text/plain": [
              "array([1, 2, 3, 4, 5, 6, 7, 8])"
            ]
          },
          "metadata": {},
          "execution_count": 4
        }
      ],
      "source": [
        "pokemon_df['generation'].unique()"
      ]
    },
    {
      "cell_type": "markdown",
      "metadata": {
        "id": "TQZjf75OnHLY"
      },
      "source": [
        "We can see here that the unique values for the `generation` variable are the numbers 1 to 8--all of which are valid."
      ]
    },
    {
      "cell_type": "markdown",
      "metadata": {
        "id": "LjJDBBWNnHLY"
      },
      "source": [
        "### `status` variable\n",
        "As described earlier, the valid values for the `status` variable are either 'Normal', 'Sub Legendary', 'Legendary', or 'Mythical'. List all the unique values for the `status` variable."
      ]
    },
    {
      "cell_type": "code",
      "execution_count": null,
      "metadata": {
        "id": "MMxePmfznHLY",
        "colab": {
          "base_uri": "https://localhost:8080/"
        },
        "outputId": "2def2c54-2c46-4ab7-bca7-67ecdde9e637"
      },
      "outputs": [
        {
          "output_type": "execute_result",
          "data": {
            "text/plain": [
              "array(['Normal', 'Sub Legendary', 'Legendary', 'Mythical'], dtype=object)"
            ]
          },
          "metadata": {},
          "execution_count": 5
        }
      ],
      "source": [
        "# Write your code here\n",
        "pokemon_df['status'].unique()"
      ]
    },
    {
      "cell_type": "markdown",
      "metadata": {
        "id": "oxdX2-ifnHLY"
      },
      "source": [
        "**Checkpoint #1:** Do we need to perform data cleaning for the `status` variable? Explain."
      ]
    },
    {
      "cell_type": "markdown",
      "metadata": {
        "id": "CywWzUkanHLZ"
      },
      "source": [
        "## Scenario:\n",
        "Let's say that we want to explore the different [types](https://bulbapedia.bulbagarden.net/wiki/Type) of Pokemon. You can think of 'types' as 'elements' in the Pokemon Universe. Generally, a pokemon can have up to two types: a primary type and an optional secondary type.\n",
        "\n",
        "For this, we would probably use the following columns:\n",
        "- **`type_1`**: primary type of the Pokemon\n",
        "- **`type_2`**: secondary type of the Pokemon (if any)\n",
        "\n",
        "Thus, we should inspect these and see if these columns need cleaning."
      ]
    },
    {
      "cell_type": "markdown",
      "metadata": {
        "id": "yx_DdDJTnHLZ"
      },
      "source": [
        "### `type_1` variable\n",
        "The `type_1` variable is the primary type of the Pokemon. Let's list all the unique values for the `type_1` variable."
      ]
    },
    {
      "cell_type": "code",
      "execution_count": null,
      "metadata": {
        "id": "NdAtkWmRnHLZ",
        "colab": {
          "base_uri": "https://localhost:8080/"
        },
        "outputId": "a73daa57-d36c-42f8-bd73-43b23135b880"
      },
      "outputs": [
        {
          "output_type": "execute_result",
          "data": {
            "text/plain": [
              "array(['Grass', 'Fire', 'water', 'Bug', 'normal', 'Dark', 'Normal',\n",
              "       'Poison', 'Electric', 'Grund', 'Ice', 'Fairy', 'Ground', 'Steel',\n",
              "       'Water', 'Fighting', 'Psychic', 'Rock', 'Ghost', 'Dragon', 'watr',\n",
              "       'Flying'], dtype=object)"
            ]
          },
          "metadata": {},
          "execution_count": 6
        }
      ],
      "source": [
        "pokemon_df['type_1'].unique()"
      ]
    },
    {
      "cell_type": "markdown",
      "metadata": {
        "id": "SBUkrUtwnHLZ"
      },
      "source": [
        "Currently, there are 18 unique types in the main Pokemon franchise. You may refer to this [page](https://bulbapedia.bulbagarden.net/wiki/Type) to see the valid list of types in the main pokemon franchise Looking at the results above, we can see that there are multiple representations of the same type (`Water`, `water` for the Water type; `normal`, `Normal` for the Normal type) and there are also some values that have spelling/encoding errors (`watr` - a typo of the Water type; `Grund` - a typo of the Ground type).\n",
        "\n",
        "Generally speaking, if you are unsure on what the correct representation is, or there isn't really a *correct* representation per se, we can use the most prevalent representation in the variable. To find out the number of observations per unique value, we use the [`value_counts`](https://pandas.pydata.org/pandas-docs/stable/reference/api/pandas.Series.value_counts.html) function. This function returns the count of each unique value in the Series."
      ]
    },
    {
      "cell_type": "code",
      "execution_count": null,
      "metadata": {
        "id": "97eUIVjxnHLZ",
        "colab": {
          "base_uri": "https://localhost:8080/",
          "height": 805
        },
        "outputId": "fbb44fe0-df4d-473e-c169-27a82803473d"
      },
      "outputs": [
        {
          "output_type": "execute_result",
          "data": {
            "text/plain": [
              "type_1\n",
              "Water       112\n",
              "Grass        91\n",
              "Normal       89\n",
              "Bug          81\n",
              "Psychic      76\n",
              "Fire         65\n",
              "Electric     61\n",
              "Rock         60\n",
              "Dark         44\n",
              "Ghost        41\n",
              "Dragon       40\n",
              "Poison       39\n",
              "Fighting     38\n",
              "Ice          36\n",
              "Steel        36\n",
              "Ground       31\n",
              "normal       26\n",
              "Fairy        22\n",
              "water        15\n",
              "Grund        10\n",
              "Flying        8\n",
              "watr          7\n",
              "Name: count, dtype: int64"
            ],
            "text/html": [
              "<div>\n",
              "<style scoped>\n",
              "    .dataframe tbody tr th:only-of-type {\n",
              "        vertical-align: middle;\n",
              "    }\n",
              "\n",
              "    .dataframe tbody tr th {\n",
              "        vertical-align: top;\n",
              "    }\n",
              "\n",
              "    .dataframe thead th {\n",
              "        text-align: right;\n",
              "    }\n",
              "</style>\n",
              "<table border=\"1\" class=\"dataframe\">\n",
              "  <thead>\n",
              "    <tr style=\"text-align: right;\">\n",
              "      <th></th>\n",
              "      <th>count</th>\n",
              "    </tr>\n",
              "    <tr>\n",
              "      <th>type_1</th>\n",
              "      <th></th>\n",
              "    </tr>\n",
              "  </thead>\n",
              "  <tbody>\n",
              "    <tr>\n",
              "      <th>Water</th>\n",
              "      <td>112</td>\n",
              "    </tr>\n",
              "    <tr>\n",
              "      <th>Grass</th>\n",
              "      <td>91</td>\n",
              "    </tr>\n",
              "    <tr>\n",
              "      <th>Normal</th>\n",
              "      <td>89</td>\n",
              "    </tr>\n",
              "    <tr>\n",
              "      <th>Bug</th>\n",
              "      <td>81</td>\n",
              "    </tr>\n",
              "    <tr>\n",
              "      <th>Psychic</th>\n",
              "      <td>76</td>\n",
              "    </tr>\n",
              "    <tr>\n",
              "      <th>Fire</th>\n",
              "      <td>65</td>\n",
              "    </tr>\n",
              "    <tr>\n",
              "      <th>Electric</th>\n",
              "      <td>61</td>\n",
              "    </tr>\n",
              "    <tr>\n",
              "      <th>Rock</th>\n",
              "      <td>60</td>\n",
              "    </tr>\n",
              "    <tr>\n",
              "      <th>Dark</th>\n",
              "      <td>44</td>\n",
              "    </tr>\n",
              "    <tr>\n",
              "      <th>Ghost</th>\n",
              "      <td>41</td>\n",
              "    </tr>\n",
              "    <tr>\n",
              "      <th>Dragon</th>\n",
              "      <td>40</td>\n",
              "    </tr>\n",
              "    <tr>\n",
              "      <th>Poison</th>\n",
              "      <td>39</td>\n",
              "    </tr>\n",
              "    <tr>\n",
              "      <th>Fighting</th>\n",
              "      <td>38</td>\n",
              "    </tr>\n",
              "    <tr>\n",
              "      <th>Ice</th>\n",
              "      <td>36</td>\n",
              "    </tr>\n",
              "    <tr>\n",
              "      <th>Steel</th>\n",
              "      <td>36</td>\n",
              "    </tr>\n",
              "    <tr>\n",
              "      <th>Ground</th>\n",
              "      <td>31</td>\n",
              "    </tr>\n",
              "    <tr>\n",
              "      <th>normal</th>\n",
              "      <td>26</td>\n",
              "    </tr>\n",
              "    <tr>\n",
              "      <th>Fairy</th>\n",
              "      <td>22</td>\n",
              "    </tr>\n",
              "    <tr>\n",
              "      <th>water</th>\n",
              "      <td>15</td>\n",
              "    </tr>\n",
              "    <tr>\n",
              "      <th>Grund</th>\n",
              "      <td>10</td>\n",
              "    </tr>\n",
              "    <tr>\n",
              "      <th>Flying</th>\n",
              "      <td>8</td>\n",
              "    </tr>\n",
              "    <tr>\n",
              "      <th>watr</th>\n",
              "      <td>7</td>\n",
              "    </tr>\n",
              "  </tbody>\n",
              "</table>\n",
              "</div><br><label><b>dtype:</b> int64</label>"
            ]
          },
          "metadata": {},
          "execution_count": 7
        }
      ],
      "source": [
        "pokemon_df['type_1'].value_counts()"
      ]
    },
    {
      "cell_type": "markdown",
      "metadata": {
        "id": "LR9EpDm_nHLZ"
      },
      "source": [
        "From the results above, we can see that `water` and `normal` are less prevalent than `Water` and `Normal`. Thus, it might be more preferrable to use `Water` and `Normal` to represent the Water and Normal types, respectively."
      ]
    },
    {
      "cell_type": "markdown",
      "metadata": {
        "id": "2dyDCqu2nHLZ"
      },
      "source": [
        "The succeeding cells shows two ways we can use to address multiple representations and spelling errors. But before that, let's make two copies of `pokemon_df` by using the [`copy`](https://pandas.pydata.org/pandas-docs/stable/reference/api/pandas.DataFrame.copy.html) function, just to demonstrate that the two approaches will produce the same result."
      ]
    },
    {
      "cell_type": "code",
      "execution_count": null,
      "metadata": {
        "id": "uMz-ruJnnHLa"
      },
      "outputs": [],
      "source": [
        "pokemon_df1 = pokemon_df.copy()\n",
        "pokemon_df2 = pokemon_df.copy()"
      ]
    },
    {
      "cell_type": "markdown",
      "metadata": {
        "id": "x60zO-A0nHLa"
      },
      "source": [
        "One way to address it is to use the [`map`](https://pandas.pydata.org/pandas-docs/stable/reference/api/pandas.Series.map.html) function to change the values of the other representations and spelling errors. **Note that values which are not mapped in the dictionary parameter will be mapped to [`NaN`](https://numpy.org/doc/stable/reference/constants.html#numpy.NAN) (Not a Number).** As such, we should still include the correct values in the dictionary."
      ]
    },
    {
      "cell_type": "code",
      "execution_count": null,
      "metadata": {
        "id": "eWPZg7CAnHLa"
      },
      "outputs": [],
      "source": [
        "pokemon_df1['type_1'] = pokemon_df1['type_1'].map({'water': 'Water', 'normal': 'Normal',\n",
        "                                                   'watr': 'Water', 'Grund': 'Ground',\n",
        "                                                   'Water': 'Water', 'Grass': 'Grass', 'Normal': 'Normal', 'Bug': 'Bug', 'Psychic': 'Psychic', 'Fire': 'Fire',\n",
        "                                                   'Electric': 'Electric', 'Rock': 'Rock', 'Dark': 'Dark', 'Ground': 'Ground', 'Ghost': 'Ghost', 'Dragon': 'Dragon',\n",
        "                                                   'Poison': 'Poison', 'Fighting': 'Fighting', 'Steel': 'Steel', 'Ice': 'Ice', 'Fairy': 'Fairy', 'Flying': 'Flying'})"
      ]
    },
    {
      "cell_type": "markdown",
      "metadata": {
        "id": "lj9E4A-0nHLa"
      },
      "source": [
        "To check if the values were mapped correctly, we can confirm the counts through the `value_counts` function."
      ]
    },
    {
      "cell_type": "code",
      "execution_count": null,
      "metadata": {
        "id": "ZUYXVOPEnHLa",
        "colab": {
          "base_uri": "https://localhost:8080/",
          "height": 679
        },
        "outputId": "02a11457-d305-4853-f017-dbf266016c7f"
      },
      "outputs": [
        {
          "output_type": "execute_result",
          "data": {
            "text/plain": [
              "type_1\n",
              "Water       134\n",
              "Normal      115\n",
              "Grass        91\n",
              "Bug          81\n",
              "Psychic      76\n",
              "Fire         65\n",
              "Electric     61\n",
              "Rock         60\n",
              "Dark         44\n",
              "Ground       41\n",
              "Ghost        41\n",
              "Dragon       40\n",
              "Poison       39\n",
              "Fighting     38\n",
              "Ice          36\n",
              "Steel        36\n",
              "Fairy        22\n",
              "Flying        8\n",
              "Name: count, dtype: int64"
            ],
            "text/html": [
              "<div>\n",
              "<style scoped>\n",
              "    .dataframe tbody tr th:only-of-type {\n",
              "        vertical-align: middle;\n",
              "    }\n",
              "\n",
              "    .dataframe tbody tr th {\n",
              "        vertical-align: top;\n",
              "    }\n",
              "\n",
              "    .dataframe thead th {\n",
              "        text-align: right;\n",
              "    }\n",
              "</style>\n",
              "<table border=\"1\" class=\"dataframe\">\n",
              "  <thead>\n",
              "    <tr style=\"text-align: right;\">\n",
              "      <th></th>\n",
              "      <th>count</th>\n",
              "    </tr>\n",
              "    <tr>\n",
              "      <th>type_1</th>\n",
              "      <th></th>\n",
              "    </tr>\n",
              "  </thead>\n",
              "  <tbody>\n",
              "    <tr>\n",
              "      <th>Water</th>\n",
              "      <td>134</td>\n",
              "    </tr>\n",
              "    <tr>\n",
              "      <th>Normal</th>\n",
              "      <td>115</td>\n",
              "    </tr>\n",
              "    <tr>\n",
              "      <th>Grass</th>\n",
              "      <td>91</td>\n",
              "    </tr>\n",
              "    <tr>\n",
              "      <th>Bug</th>\n",
              "      <td>81</td>\n",
              "    </tr>\n",
              "    <tr>\n",
              "      <th>Psychic</th>\n",
              "      <td>76</td>\n",
              "    </tr>\n",
              "    <tr>\n",
              "      <th>Fire</th>\n",
              "      <td>65</td>\n",
              "    </tr>\n",
              "    <tr>\n",
              "      <th>Electric</th>\n",
              "      <td>61</td>\n",
              "    </tr>\n",
              "    <tr>\n",
              "      <th>Rock</th>\n",
              "      <td>60</td>\n",
              "    </tr>\n",
              "    <tr>\n",
              "      <th>Dark</th>\n",
              "      <td>44</td>\n",
              "    </tr>\n",
              "    <tr>\n",
              "      <th>Ground</th>\n",
              "      <td>41</td>\n",
              "    </tr>\n",
              "    <tr>\n",
              "      <th>Ghost</th>\n",
              "      <td>41</td>\n",
              "    </tr>\n",
              "    <tr>\n",
              "      <th>Dragon</th>\n",
              "      <td>40</td>\n",
              "    </tr>\n",
              "    <tr>\n",
              "      <th>Poison</th>\n",
              "      <td>39</td>\n",
              "    </tr>\n",
              "    <tr>\n",
              "      <th>Fighting</th>\n",
              "      <td>38</td>\n",
              "    </tr>\n",
              "    <tr>\n",
              "      <th>Ice</th>\n",
              "      <td>36</td>\n",
              "    </tr>\n",
              "    <tr>\n",
              "      <th>Steel</th>\n",
              "      <td>36</td>\n",
              "    </tr>\n",
              "    <tr>\n",
              "      <th>Fairy</th>\n",
              "      <td>22</td>\n",
              "    </tr>\n",
              "    <tr>\n",
              "      <th>Flying</th>\n",
              "      <td>8</td>\n",
              "    </tr>\n",
              "  </tbody>\n",
              "</table>\n",
              "</div><br><label><b>dtype:</b> int64</label>"
            ]
          },
          "metadata": {},
          "execution_count": 10
        }
      ],
      "source": [
        "pokemon_df1['type_1'].value_counts()"
      ]
    },
    {
      "cell_type": "markdown",
      "metadata": {
        "id": "XxhkPyrOnHLa"
      },
      "source": [
        "Another way is to use the [`replace`](https://pandas.pydata.org/docs/reference/api/pandas.DataFrame.replace.html) function. In this approach, we don't have to indicate the values that we will not be changing.  "
      ]
    },
    {
      "cell_type": "code",
      "execution_count": null,
      "metadata": {
        "id": "UQVoHQ_enHLa"
      },
      "outputs": [],
      "source": [
        "pokemon_df2['type_1'] = pokemon_df2['type_1'].replace({'water': 'Water', 'normal': 'Normal',\n",
        "                                                    'watr':'Water', 'Grund': 'Ground'})"
      ]
    },
    {
      "cell_type": "markdown",
      "metadata": {
        "id": "tF9RbnQQnHLb"
      },
      "source": [
        "Once again, to check if the values were mapped correctly, we can confirm the counts through the `value_counts` function."
      ]
    },
    {
      "cell_type": "code",
      "execution_count": null,
      "metadata": {
        "id": "-sfpBoQwnHLb",
        "colab": {
          "base_uri": "https://localhost:8080/",
          "height": 679
        },
        "outputId": "ae2e2650-08ee-4976-cf16-be6d0505a6f9"
      },
      "outputs": [
        {
          "output_type": "execute_result",
          "data": {
            "text/plain": [
              "type_1\n",
              "Water       134\n",
              "Normal      115\n",
              "Grass        91\n",
              "Bug          81\n",
              "Psychic      76\n",
              "Fire         65\n",
              "Electric     61\n",
              "Rock         60\n",
              "Dark         44\n",
              "Ground       41\n",
              "Ghost        41\n",
              "Dragon       40\n",
              "Poison       39\n",
              "Fighting     38\n",
              "Ice          36\n",
              "Steel        36\n",
              "Fairy        22\n",
              "Flying        8\n",
              "Name: count, dtype: int64"
            ],
            "text/html": [
              "<div>\n",
              "<style scoped>\n",
              "    .dataframe tbody tr th:only-of-type {\n",
              "        vertical-align: middle;\n",
              "    }\n",
              "\n",
              "    .dataframe tbody tr th {\n",
              "        vertical-align: top;\n",
              "    }\n",
              "\n",
              "    .dataframe thead th {\n",
              "        text-align: right;\n",
              "    }\n",
              "</style>\n",
              "<table border=\"1\" class=\"dataframe\">\n",
              "  <thead>\n",
              "    <tr style=\"text-align: right;\">\n",
              "      <th></th>\n",
              "      <th>count</th>\n",
              "    </tr>\n",
              "    <tr>\n",
              "      <th>type_1</th>\n",
              "      <th></th>\n",
              "    </tr>\n",
              "  </thead>\n",
              "  <tbody>\n",
              "    <tr>\n",
              "      <th>Water</th>\n",
              "      <td>134</td>\n",
              "    </tr>\n",
              "    <tr>\n",
              "      <th>Normal</th>\n",
              "      <td>115</td>\n",
              "    </tr>\n",
              "    <tr>\n",
              "      <th>Grass</th>\n",
              "      <td>91</td>\n",
              "    </tr>\n",
              "    <tr>\n",
              "      <th>Bug</th>\n",
              "      <td>81</td>\n",
              "    </tr>\n",
              "    <tr>\n",
              "      <th>Psychic</th>\n",
              "      <td>76</td>\n",
              "    </tr>\n",
              "    <tr>\n",
              "      <th>Fire</th>\n",
              "      <td>65</td>\n",
              "    </tr>\n",
              "    <tr>\n",
              "      <th>Electric</th>\n",
              "      <td>61</td>\n",
              "    </tr>\n",
              "    <tr>\n",
              "      <th>Rock</th>\n",
              "      <td>60</td>\n",
              "    </tr>\n",
              "    <tr>\n",
              "      <th>Dark</th>\n",
              "      <td>44</td>\n",
              "    </tr>\n",
              "    <tr>\n",
              "      <th>Ground</th>\n",
              "      <td>41</td>\n",
              "    </tr>\n",
              "    <tr>\n",
              "      <th>Ghost</th>\n",
              "      <td>41</td>\n",
              "    </tr>\n",
              "    <tr>\n",
              "      <th>Dragon</th>\n",
              "      <td>40</td>\n",
              "    </tr>\n",
              "    <tr>\n",
              "      <th>Poison</th>\n",
              "      <td>39</td>\n",
              "    </tr>\n",
              "    <tr>\n",
              "      <th>Fighting</th>\n",
              "      <td>38</td>\n",
              "    </tr>\n",
              "    <tr>\n",
              "      <th>Ice</th>\n",
              "      <td>36</td>\n",
              "    </tr>\n",
              "    <tr>\n",
              "      <th>Steel</th>\n",
              "      <td>36</td>\n",
              "    </tr>\n",
              "    <tr>\n",
              "      <th>Fairy</th>\n",
              "      <td>22</td>\n",
              "    </tr>\n",
              "    <tr>\n",
              "      <th>Flying</th>\n",
              "      <td>8</td>\n",
              "    </tr>\n",
              "  </tbody>\n",
              "</table>\n",
              "</div><br><label><b>dtype:</b> int64</label>"
            ]
          },
          "metadata": {},
          "execution_count": 12
        }
      ],
      "source": [
        "pokemon_df2['type_1'].value_counts()"
      ]
    },
    {
      "cell_type": "markdown",
      "metadata": {
        "id": "mMZrhZZNnHLb"
      },
      "source": [
        "**Checkpoint #2:** After cleaning, how many observations have the value `Water` for the `type_1` variable?"
      ]
    },
    {
      "cell_type": "markdown",
      "metadata": {
        "id": "t8ehZzsenHLb"
      },
      "source": [
        "**Checkpoint #3:** After cleaning, how many observations have the value `Normal` for the `type_1` variable?"
      ]
    },
    {
      "cell_type": "markdown",
      "metadata": {
        "id": "gctMjh1enHLb"
      },
      "source": [
        "**Checkpoint #4:** After cleaning, how many observations have the value `Grund` for the `type_1` variable?"
      ]
    },
    {
      "cell_type": "markdown",
      "metadata": {
        "id": "oxuVrF4CnHLb"
      },
      "source": [
        "The code cell below is just to update `pokemon_df` with the cleaned `type_1` variable."
      ]
    },
    {
      "cell_type": "code",
      "execution_count": null,
      "metadata": {
        "id": "JLjtadmDnHLc"
      },
      "outputs": [],
      "source": [
        "pokemon_df['type_1'] = pokemon_df1['type_1']"
      ]
    },
    {
      "cell_type": "markdown",
      "metadata": {
        "id": "Ga7ELEC9nHLd"
      },
      "source": [
        "### `type_2` variable"
      ]
    },
    {
      "cell_type": "markdown",
      "metadata": {
        "id": "3JqDCI0PnHLd"
      },
      "source": [
        "The `type_2` variable is the secondary type of the Pokemon. Let's list all the unique values for the `type_2` variable. Note that the secondary type is optional, hence it is okay to have empty values (aka `nan`)."
      ]
    },
    {
      "cell_type": "code",
      "execution_count": null,
      "metadata": {
        "id": "Ei8BVigInHLd",
        "colab": {
          "base_uri": "https://localhost:8080/"
        },
        "outputId": "314039f3-d9ab-44fd-fbaf-be41131b5d7d"
      },
      "outputs": [
        {
          "output_type": "execute_result",
          "data": {
            "text/plain": [
              "array(['Poison', nan, 'Flying', 'Dragon', 'Normal', 'normal', 'Psychic',\n",
              "       'Steel', 'Ground', 'Fairy', 'Grass', 'Fighting', 'Electric', 'Ice',\n",
              "       'Dark', 'Ghost', 'Rock', 'Water', 'Poson', 'Fire', 'Bug', 'grass'],\n",
              "      dtype=object)"
            ]
          },
          "metadata": {},
          "execution_count": 14
        }
      ],
      "source": [
        "pokemon_df['type_2'].unique()"
      ]
    },
    {
      "cell_type": "markdown",
      "metadata": {
        "id": "68xMeqrNnHLd"
      },
      "source": [
        "Let's check the number of observations per value in the `type_2` variable before cleaning it."
      ]
    },
    {
      "cell_type": "code",
      "execution_count": 15,
      "metadata": {
        "id": "xHrbY2bynHLd",
        "colab": {
          "base_uri": "https://localhost:8080/",
          "height": 773
        },
        "outputId": "f44c19cb-ee33-4e4c-92c0-9bd023b83a11"
      },
      "outputs": [
        {
          "output_type": "execute_result",
          "data": {
            "text/plain": [
              "type_2\n",
              "Flying      109\n",
              "Fairy        41\n",
              "Ground       39\n",
              "Psychic      38\n",
              "Steel        35\n",
              "Poison       32\n",
              "Fighting     32\n",
              "Dragon       32\n",
              "Dark         26\n",
              "Ghost        25\n",
              "Grass        23\n",
              "Ice          19\n",
              "Water        19\n",
              "Fire         17\n",
              "Rock         15\n",
              "Electric     11\n",
              "Bug           9\n",
              "Normal        8\n",
              "Poson         6\n",
              "normal        3\n",
              "grass         3\n",
              "Name: count, dtype: int64"
            ],
            "text/html": [
              "<div>\n",
              "<style scoped>\n",
              "    .dataframe tbody tr th:only-of-type {\n",
              "        vertical-align: middle;\n",
              "    }\n",
              "\n",
              "    .dataframe tbody tr th {\n",
              "        vertical-align: top;\n",
              "    }\n",
              "\n",
              "    .dataframe thead th {\n",
              "        text-align: right;\n",
              "    }\n",
              "</style>\n",
              "<table border=\"1\" class=\"dataframe\">\n",
              "  <thead>\n",
              "    <tr style=\"text-align: right;\">\n",
              "      <th></th>\n",
              "      <th>count</th>\n",
              "    </tr>\n",
              "    <tr>\n",
              "      <th>type_2</th>\n",
              "      <th></th>\n",
              "    </tr>\n",
              "  </thead>\n",
              "  <tbody>\n",
              "    <tr>\n",
              "      <th>Flying</th>\n",
              "      <td>109</td>\n",
              "    </tr>\n",
              "    <tr>\n",
              "      <th>Fairy</th>\n",
              "      <td>41</td>\n",
              "    </tr>\n",
              "    <tr>\n",
              "      <th>Ground</th>\n",
              "      <td>39</td>\n",
              "    </tr>\n",
              "    <tr>\n",
              "      <th>Psychic</th>\n",
              "      <td>38</td>\n",
              "    </tr>\n",
              "    <tr>\n",
              "      <th>Steel</th>\n",
              "      <td>35</td>\n",
              "    </tr>\n",
              "    <tr>\n",
              "      <th>Poison</th>\n",
              "      <td>32</td>\n",
              "    </tr>\n",
              "    <tr>\n",
              "      <th>Fighting</th>\n",
              "      <td>32</td>\n",
              "    </tr>\n",
              "    <tr>\n",
              "      <th>Dragon</th>\n",
              "      <td>32</td>\n",
              "    </tr>\n",
              "    <tr>\n",
              "      <th>Dark</th>\n",
              "      <td>26</td>\n",
              "    </tr>\n",
              "    <tr>\n",
              "      <th>Ghost</th>\n",
              "      <td>25</td>\n",
              "    </tr>\n",
              "    <tr>\n",
              "      <th>Grass</th>\n",
              "      <td>23</td>\n",
              "    </tr>\n",
              "    <tr>\n",
              "      <th>Ice</th>\n",
              "      <td>19</td>\n",
              "    </tr>\n",
              "    <tr>\n",
              "      <th>Water</th>\n",
              "      <td>19</td>\n",
              "    </tr>\n",
              "    <tr>\n",
              "      <th>Fire</th>\n",
              "      <td>17</td>\n",
              "    </tr>\n",
              "    <tr>\n",
              "      <th>Rock</th>\n",
              "      <td>15</td>\n",
              "    </tr>\n",
              "    <tr>\n",
              "      <th>Electric</th>\n",
              "      <td>11</td>\n",
              "    </tr>\n",
              "    <tr>\n",
              "      <th>Bug</th>\n",
              "      <td>9</td>\n",
              "    </tr>\n",
              "    <tr>\n",
              "      <th>Normal</th>\n",
              "      <td>8</td>\n",
              "    </tr>\n",
              "    <tr>\n",
              "      <th>Poson</th>\n",
              "      <td>6</td>\n",
              "    </tr>\n",
              "    <tr>\n",
              "      <th>normal</th>\n",
              "      <td>3</td>\n",
              "    </tr>\n",
              "    <tr>\n",
              "      <th>grass</th>\n",
              "      <td>3</td>\n",
              "    </tr>\n",
              "  </tbody>\n",
              "</table>\n",
              "</div><br><label><b>dtype:</b> int64</label>"
            ]
          },
          "metadata": {},
          "execution_count": 15
        }
      ],
      "source": [
        "# Write your code here\n",
        "pokemon_df['type_2'].value_counts()"
      ]
    },
    {
      "cell_type": "markdown",
      "metadata": {
        "id": "BXD_FfornHLd"
      },
      "source": [
        "Identify and address multiple representations and spelling errors then write your code in the cell below.\n",
        "\n",
        "*You may use either of the approaches presented earlier.*"
      ]
    },
    {
      "cell_type": "code",
      "execution_count": 16,
      "metadata": {
        "id": "bN2mKBxenHLd"
      },
      "outputs": [],
      "source": [
        "# Write your code here\n",
        "pokemon_df1 = pokemon_df.copy()\n",
        "pokemon_df1['type_2'] = pokemon_df1['type_2'].replace({'grass': 'Grass', 'normal': 'Normal',\n",
        "                                                    'Poson':'Poison'})"
      ]
    },
    {
      "cell_type": "markdown",
      "metadata": {
        "id": "ez3LGuV7nHLe"
      },
      "source": [
        "After addressing multiple representation and spelling errors, let's check again the number of unique observations per value in the `type_2` variable."
      ]
    },
    {
      "cell_type": "code",
      "execution_count": 19,
      "metadata": {
        "id": "eQY3abvxnHLe",
        "colab": {
          "base_uri": "https://localhost:8080/",
          "height": 679
        },
        "outputId": "e02733c3-4e50-4f4f-a9ef-bf2c45b63186"
      },
      "outputs": [
        {
          "output_type": "execute_result",
          "data": {
            "text/plain": [
              "type_2\n",
              "Flying      109\n",
              "Fairy        41\n",
              "Ground       39\n",
              "Poison       38\n",
              "Psychic      38\n",
              "Steel        35\n",
              "Fighting     32\n",
              "Dragon       32\n",
              "Grass        26\n",
              "Dark         26\n",
              "Ghost        25\n",
              "Ice          19\n",
              "Water        19\n",
              "Fire         17\n",
              "Rock         15\n",
              "Normal       11\n",
              "Electric     11\n",
              "Bug           9\n",
              "Name: count, dtype: int64"
            ],
            "text/html": [
              "<div>\n",
              "<style scoped>\n",
              "    .dataframe tbody tr th:only-of-type {\n",
              "        vertical-align: middle;\n",
              "    }\n",
              "\n",
              "    .dataframe tbody tr th {\n",
              "        vertical-align: top;\n",
              "    }\n",
              "\n",
              "    .dataframe thead th {\n",
              "        text-align: right;\n",
              "    }\n",
              "</style>\n",
              "<table border=\"1\" class=\"dataframe\">\n",
              "  <thead>\n",
              "    <tr style=\"text-align: right;\">\n",
              "      <th></th>\n",
              "      <th>count</th>\n",
              "    </tr>\n",
              "    <tr>\n",
              "      <th>type_2</th>\n",
              "      <th></th>\n",
              "    </tr>\n",
              "  </thead>\n",
              "  <tbody>\n",
              "    <tr>\n",
              "      <th>Flying</th>\n",
              "      <td>109</td>\n",
              "    </tr>\n",
              "    <tr>\n",
              "      <th>Fairy</th>\n",
              "      <td>41</td>\n",
              "    </tr>\n",
              "    <tr>\n",
              "      <th>Ground</th>\n",
              "      <td>39</td>\n",
              "    </tr>\n",
              "    <tr>\n",
              "      <th>Poison</th>\n",
              "      <td>38</td>\n",
              "    </tr>\n",
              "    <tr>\n",
              "      <th>Psychic</th>\n",
              "      <td>38</td>\n",
              "    </tr>\n",
              "    <tr>\n",
              "      <th>Steel</th>\n",
              "      <td>35</td>\n",
              "    </tr>\n",
              "    <tr>\n",
              "      <th>Fighting</th>\n",
              "      <td>32</td>\n",
              "    </tr>\n",
              "    <tr>\n",
              "      <th>Dragon</th>\n",
              "      <td>32</td>\n",
              "    </tr>\n",
              "    <tr>\n",
              "      <th>Grass</th>\n",
              "      <td>26</td>\n",
              "    </tr>\n",
              "    <tr>\n",
              "      <th>Dark</th>\n",
              "      <td>26</td>\n",
              "    </tr>\n",
              "    <tr>\n",
              "      <th>Ghost</th>\n",
              "      <td>25</td>\n",
              "    </tr>\n",
              "    <tr>\n",
              "      <th>Ice</th>\n",
              "      <td>19</td>\n",
              "    </tr>\n",
              "    <tr>\n",
              "      <th>Water</th>\n",
              "      <td>19</td>\n",
              "    </tr>\n",
              "    <tr>\n",
              "      <th>Fire</th>\n",
              "      <td>17</td>\n",
              "    </tr>\n",
              "    <tr>\n",
              "      <th>Rock</th>\n",
              "      <td>15</td>\n",
              "    </tr>\n",
              "    <tr>\n",
              "      <th>Normal</th>\n",
              "      <td>11</td>\n",
              "    </tr>\n",
              "    <tr>\n",
              "      <th>Electric</th>\n",
              "      <td>11</td>\n",
              "    </tr>\n",
              "    <tr>\n",
              "      <th>Bug</th>\n",
              "      <td>9</td>\n",
              "    </tr>\n",
              "  </tbody>\n",
              "</table>\n",
              "</div><br><label><b>dtype:</b> int64</label>"
            ]
          },
          "metadata": {},
          "execution_count": 19
        }
      ],
      "source": [
        "# Write your code here\n",
        "pokemon_df['type_2'] = pokemon_df1['type_2']\n",
        "pokemon_df['type_2'].value_counts()"
      ]
    },
    {
      "cell_type": "markdown",
      "metadata": {
        "id": "RXfMbK4ZnHLe"
      },
      "source": [
        "**Checkpoint #5:** Before cleaning, how many observations have the value `Normal` for the `type_2` variable?\n",
        "\n",
        "8 observations"
      ]
    },
    {
      "cell_type": "markdown",
      "metadata": {
        "id": "-bhXyFMjnHLe"
      },
      "source": [
        "**Checkpoint #6:** After cleaning, how many observations have the value `Normal` for the `type_2` variable?\n",
        "\n",
        "11 observations"
      ]
    },
    {
      "cell_type": "markdown",
      "metadata": {
        "id": "BHPgk1_WnHLe"
      },
      "source": [
        "**Checkpoint #7:** Before cleaning, how many observations have the value `normal` for the `type_2` variable?\n",
        "\n",
        "3 observations"
      ]
    },
    {
      "cell_type": "markdown",
      "metadata": {
        "id": "Hi5j9EoCnHLe"
      },
      "source": [
        "## Checking for `NaN`s\n",
        "We will now handle missing data in our dataset. Let us check each variable if it contains a `NaN` / `null` value. We'll use the [`isnull`](https://pandas.pydata.org/pandas-docs/stable/reference/api/pandas.DataFrame.isnull.html) and [`any`](https://pandas.pydata.org/pandas-docs/stable/reference/api/pandas.DataFrame.any.html) functions for this. This function call will list each variable with a boolean value indicating if the variable contains a `NaN` / `null` value."
      ]
    },
    {
      "cell_type": "code",
      "execution_count": 20,
      "metadata": {
        "id": "vHFFlMsanHLe",
        "colab": {
          "base_uri": "https://localhost:8080/",
          "height": 711
        },
        "outputId": "6b4888ef-9eff-4c9b-8aa1-24807d6cf30d"
      },
      "outputs": [
        {
          "output_type": "execute_result",
          "data": {
            "text/plain": [
              "Unnamed: 0          False\n",
              "pokedex_number      False\n",
              "name                False\n",
              "generation          False\n",
              "status              False\n",
              "species             False\n",
              "type_number         False\n",
              "type_1              False\n",
              "type_2               True\n",
              "height_m            False\n",
              "weight_kg            True\n",
              "abilities_number    False\n",
              "ability_1            True\n",
              "total_points        False\n",
              "hp                   True\n",
              "attack               True\n",
              "defense              True\n",
              "sp_attack            True\n",
              "sp_defense           True\n",
              "speed                True\n",
              "dtype: bool"
            ],
            "text/html": [
              "<div>\n",
              "<style scoped>\n",
              "    .dataframe tbody tr th:only-of-type {\n",
              "        vertical-align: middle;\n",
              "    }\n",
              "\n",
              "    .dataframe tbody tr th {\n",
              "        vertical-align: top;\n",
              "    }\n",
              "\n",
              "    .dataframe thead th {\n",
              "        text-align: right;\n",
              "    }\n",
              "</style>\n",
              "<table border=\"1\" class=\"dataframe\">\n",
              "  <thead>\n",
              "    <tr style=\"text-align: right;\">\n",
              "      <th></th>\n",
              "      <th>0</th>\n",
              "    </tr>\n",
              "  </thead>\n",
              "  <tbody>\n",
              "    <tr>\n",
              "      <th>Unnamed: 0</th>\n",
              "      <td>False</td>\n",
              "    </tr>\n",
              "    <tr>\n",
              "      <th>pokedex_number</th>\n",
              "      <td>False</td>\n",
              "    </tr>\n",
              "    <tr>\n",
              "      <th>name</th>\n",
              "      <td>False</td>\n",
              "    </tr>\n",
              "    <tr>\n",
              "      <th>generation</th>\n",
              "      <td>False</td>\n",
              "    </tr>\n",
              "    <tr>\n",
              "      <th>status</th>\n",
              "      <td>False</td>\n",
              "    </tr>\n",
              "    <tr>\n",
              "      <th>species</th>\n",
              "      <td>False</td>\n",
              "    </tr>\n",
              "    <tr>\n",
              "      <th>type_number</th>\n",
              "      <td>False</td>\n",
              "    </tr>\n",
              "    <tr>\n",
              "      <th>type_1</th>\n",
              "      <td>False</td>\n",
              "    </tr>\n",
              "    <tr>\n",
              "      <th>type_2</th>\n",
              "      <td>True</td>\n",
              "    </tr>\n",
              "    <tr>\n",
              "      <th>height_m</th>\n",
              "      <td>False</td>\n",
              "    </tr>\n",
              "    <tr>\n",
              "      <th>weight_kg</th>\n",
              "      <td>True</td>\n",
              "    </tr>\n",
              "    <tr>\n",
              "      <th>abilities_number</th>\n",
              "      <td>False</td>\n",
              "    </tr>\n",
              "    <tr>\n",
              "      <th>ability_1</th>\n",
              "      <td>True</td>\n",
              "    </tr>\n",
              "    <tr>\n",
              "      <th>total_points</th>\n",
              "      <td>False</td>\n",
              "    </tr>\n",
              "    <tr>\n",
              "      <th>hp</th>\n",
              "      <td>True</td>\n",
              "    </tr>\n",
              "    <tr>\n",
              "      <th>attack</th>\n",
              "      <td>True</td>\n",
              "    </tr>\n",
              "    <tr>\n",
              "      <th>defense</th>\n",
              "      <td>True</td>\n",
              "    </tr>\n",
              "    <tr>\n",
              "      <th>sp_attack</th>\n",
              "      <td>True</td>\n",
              "    </tr>\n",
              "    <tr>\n",
              "      <th>sp_defense</th>\n",
              "      <td>True</td>\n",
              "    </tr>\n",
              "    <tr>\n",
              "      <th>speed</th>\n",
              "      <td>True</td>\n",
              "    </tr>\n",
              "  </tbody>\n",
              "</table>\n",
              "</div><br><label><b>dtype:</b> bool</label>"
            ]
          },
          "metadata": {},
          "execution_count": 20
        }
      ],
      "source": [
        "pokemon_df.isnull().any()"
      ]
    },
    {
      "cell_type": "markdown",
      "metadata": {
        "id": "i8qXPh-rnHLe"
      },
      "source": [
        "Let's get the list of columns with `NaN` / `null` values."
      ]
    },
    {
      "cell_type": "code",
      "execution_count": 21,
      "metadata": {
        "id": "VKLmbbREnHLe",
        "colab": {
          "base_uri": "https://localhost:8080/"
        },
        "outputId": "ed45cc33-0a1d-4a79-e51f-bd544309b15b"
      },
      "outputs": [
        {
          "output_type": "stream",
          "name": "stdout",
          "text": [
            "['type_2', 'weight_kg', 'ability_1', 'hp', 'attack', 'defense', 'sp_attack', 'sp_defense', 'speed']\n"
          ]
        }
      ],
      "source": [
        "nan_variables = pokemon_df.columns[pokemon_df.isnull().any()].tolist()\n",
        "print(nan_variables)"
      ]
    },
    {
      "cell_type": "markdown",
      "metadata": {
        "id": "VFcOX24QnHLe"
      },
      "source": [
        "For each variable, show the total number of observation with `NaN` / `null` value. The [`sum`](https://pandas.pydata.org/docs/reference/api/pandas.DataFrame.sum.html) function is used to get the counts of null values per column. This works because the [`isnull`](https://pandas.pydata.org/pandas-docs/stable/reference/api/pandas.DataFrame.isnull.html) function converts the value of the cell to either `True` (if the value is `null` or `nan`) or `False` (if there is a value in the cell). Just like in most programming languages, `True` is equivalent to `1` when used in place of an integer."
      ]
    },
    {
      "cell_type": "code",
      "execution_count": 22,
      "metadata": {
        "id": "6ThOiN_qnHLe",
        "colab": {
          "base_uri": "https://localhost:8080/",
          "height": 366
        },
        "outputId": "87eaa1d1-dd63-46e8-cfa5-e5ba3a0d00d8"
      },
      "outputs": [
        {
          "output_type": "execute_result",
          "data": {
            "text/plain": [
              "type_2        486\n",
              "weight_kg       1\n",
              "ability_1       3\n",
              "hp            107\n",
              "attack          2\n",
              "defense       186\n",
              "sp_attack       3\n",
              "sp_defense      1\n",
              "speed           2\n",
              "dtype: int64"
            ],
            "text/html": [
              "<div>\n",
              "<style scoped>\n",
              "    .dataframe tbody tr th:only-of-type {\n",
              "        vertical-align: middle;\n",
              "    }\n",
              "\n",
              "    .dataframe tbody tr th {\n",
              "        vertical-align: top;\n",
              "    }\n",
              "\n",
              "    .dataframe thead th {\n",
              "        text-align: right;\n",
              "    }\n",
              "</style>\n",
              "<table border=\"1\" class=\"dataframe\">\n",
              "  <thead>\n",
              "    <tr style=\"text-align: right;\">\n",
              "      <th></th>\n",
              "      <th>0</th>\n",
              "    </tr>\n",
              "  </thead>\n",
              "  <tbody>\n",
              "    <tr>\n",
              "      <th>type_2</th>\n",
              "      <td>486</td>\n",
              "    </tr>\n",
              "    <tr>\n",
              "      <th>weight_kg</th>\n",
              "      <td>1</td>\n",
              "    </tr>\n",
              "    <tr>\n",
              "      <th>ability_1</th>\n",
              "      <td>3</td>\n",
              "    </tr>\n",
              "    <tr>\n",
              "      <th>hp</th>\n",
              "      <td>107</td>\n",
              "    </tr>\n",
              "    <tr>\n",
              "      <th>attack</th>\n",
              "      <td>2</td>\n",
              "    </tr>\n",
              "    <tr>\n",
              "      <th>defense</th>\n",
              "      <td>186</td>\n",
              "    </tr>\n",
              "    <tr>\n",
              "      <th>sp_attack</th>\n",
              "      <td>3</td>\n",
              "    </tr>\n",
              "    <tr>\n",
              "      <th>sp_defense</th>\n",
              "      <td>1</td>\n",
              "    </tr>\n",
              "    <tr>\n",
              "      <th>speed</th>\n",
              "      <td>2</td>\n",
              "    </tr>\n",
              "  </tbody>\n",
              "</table>\n",
              "</div><br><label><b>dtype:</b> int64</label>"
            ]
          },
          "metadata": {},
          "execution_count": 22
        }
      ],
      "source": [
        "pokemon_df[nan_variables].isnull().sum()"
      ]
    },
    {
      "cell_type": "markdown",
      "metadata": {
        "id": "9posOZCDnHLf"
      },
      "source": [
        "**Checkpoint #8:** Before cleaning, how many observations have the `NaN` value for the `weight_kg` variable?\n",
        "\n",
        "1"
      ]
    },
    {
      "cell_type": "markdown",
      "metadata": {
        "id": "TIp4HT62nHLf"
      },
      "source": [
        "**Checkpoint #9:** Before cleaning, how many observations have the `NaN` value for the `ability_1` variable?\n",
        "\n",
        "3"
      ]
    },
    {
      "cell_type": "markdown",
      "metadata": {
        "id": "XVuf9bVCnHLf"
      },
      "source": [
        "**Checkpoint #10:** Before cleaning, how many observations have the `NaN` value for the `hp` variable?\n",
        "\n",
        "107"
      ]
    },
    {
      "cell_type": "code",
      "execution_count": 23,
      "metadata": {
        "id": "YbAGnAQdnHLf",
        "colab": {
          "base_uri": "https://localhost:8080/"
        },
        "outputId": "f23a332e-cb16-471a-80f8-02dc3621d7cf"
      },
      "outputs": [
        {
          "output_type": "execute_result",
          "data": {
            "text/plain": [
              "(1028, 20)"
            ]
          },
          "metadata": {},
          "execution_count": 23
        }
      ],
      "source": [
        "pokemon_df.shape"
      ]
    },
    {
      "cell_type": "markdown",
      "metadata": {
        "id": "Il8_Zz9rnHLf"
      },
      "source": [
        "The [`shape`](https://pandas.pydata.org/docs/reference/api/pandas.DataFrame.shape.html) attribute returns the dimensions of the dataframe. Before cleaning, we can see here that there are a total of 1028 observations in our dataset."
      ]
    },
    {
      "cell_type": "markdown",
      "metadata": {
        "id": "Eb8kWY-unHLg"
      },
      "source": [
        "The`type_2` variable have several observations that are missing a value but it is alright in this context, as having a secondary type is optional for a Pokemon."
      ]
    },
    {
      "cell_type": "code",
      "execution_count": 24,
      "metadata": {
        "id": "stBaboo-nHLg",
        "colab": {
          "base_uri": "https://localhost:8080/"
        },
        "outputId": "414cea23-c7d7-44b9-bd96-9879d1c4c2f2"
      },
      "outputs": [
        {
          "output_type": "stream",
          "name": "stdout",
          "text": [
            "['weight_kg', 'attack', 'speed', 'sp_attack', 'sp_defense', 'ability_1']\n"
          ]
        }
      ],
      "source": [
        "exclude_variables = ['type_2', 'hp', 'defense']\n",
        "dropped_variables = list(set(nan_variables) - set(exclude_variables))\n",
        "print(dropped_variables)"
      ]
    },
    {
      "cell_type": "markdown",
      "metadata": {
        "id": "UEZc9yvunHLg"
      },
      "source": [
        "Since we see that there is a very small number of observation with `NaN` / `null` value for the `ability_1`, `weight_kg`, `sp_defense`, `sp_attack`, `attack`, and `speed` variables, we can decide to drop those observations from the dataset.\n",
        "\n",
        "However, remember that in this example, we're dropping these as an example for dropping `null` values. Depending on your research question, you may have to assess whether or not these variables are important.\n",
        "\n",
        "**Hint!** Use the [`dropna`](https://pandas.pydata.org/pandas-docs/stable/reference/api/pandas.DataFrame.dropna.html) function (and its subset parameter)."
      ]
    },
    {
      "cell_type": "code",
      "execution_count": 31,
      "metadata": {
        "id": "TnIiLH87nHLg"
      },
      "outputs": [],
      "source": [
        "# Write your code here\n",
        "pokemon_df = pokemon_df.dropna(subset=dropped_variables)"
      ]
    },
    {
      "cell_type": "markdown",
      "metadata": {
        "id": "p2W2dgf9nHLg"
      },
      "source": [
        "Display the total number of observations left after removing observations."
      ]
    },
    {
      "cell_type": "code",
      "execution_count": 30,
      "metadata": {
        "id": "zAbTLhgHnHLh",
        "colab": {
          "base_uri": "https://localhost:8080/"
        },
        "outputId": "a8177d93-6e83-4808-81a1-7f2b3371a164"
      },
      "outputs": [
        {
          "output_type": "execute_result",
          "data": {
            "text/plain": [
              "(1020, 20)"
            ]
          },
          "metadata": {},
          "execution_count": 30
        }
      ],
      "source": [
        "# Write your code here\n",
        "pokemon_df.shape\n"
      ]
    },
    {
      "cell_type": "markdown",
      "metadata": {
        "id": "1hmdyF9DnHLh"
      },
      "source": [
        "**Checkpoint #11:** After dropping, how many observations are left in our `DataFrame`?\n",
        "\n",
        "0"
      ]
    },
    {
      "cell_type": "markdown",
      "metadata": {
        "id": "jtxK8NL5nHLh"
      },
      "source": [
        "Check if the observations with `NaN` / `null` values for the `weight_kg` variable have been dropped from the dataset. Make sure that the `NaN` value is not included in the list of all values for the `weight_kg` variable."
      ]
    },
    {
      "cell_type": "code",
      "execution_count": 32,
      "metadata": {
        "id": "fIPkZtqsnHLh",
        "colab": {
          "base_uri": "https://localhost:8080/"
        },
        "outputId": "dc0034a9-df2e-475d-fc0a-4258a2f1c3dc"
      },
      "outputs": [
        {
          "output_type": "execute_result",
          "data": {
            "text/plain": [
              "False"
            ]
          },
          "metadata": {},
          "execution_count": 32
        }
      ],
      "source": [
        "# Write your code here\n",
        "pokemon_df['weight_kg'].isnull().any()"
      ]
    },
    {
      "cell_type": "markdown",
      "metadata": {
        "id": "WwgQPHk4nHLh"
      },
      "source": [
        "**Sanity Check!** Your code should return the output:\n",
        "\n",
        "```False```"
      ]
    },
    {
      "cell_type": "markdown",
      "metadata": {
        "id": "WNWDlLBLnHLh"
      },
      "source": [
        "We can also check the counts for all of our initial variables with missing values using the code below:"
      ]
    },
    {
      "cell_type": "code",
      "execution_count": 33,
      "metadata": {
        "id": "ZRFv5kg1nHLh",
        "colab": {
          "base_uri": "https://localhost:8080/",
          "height": 178
        },
        "outputId": "4e6566c3-01d8-4e2d-9c3e-40c638af10ee"
      },
      "outputs": [
        {
          "output_type": "execute_result",
          "data": {
            "text/plain": [
              "type_2     483\n",
              "hp         106\n",
              "defense    184\n",
              "dtype: int64"
            ],
            "text/html": [
              "<div>\n",
              "<style scoped>\n",
              "    .dataframe tbody tr th:only-of-type {\n",
              "        vertical-align: middle;\n",
              "    }\n",
              "\n",
              "    .dataframe tbody tr th {\n",
              "        vertical-align: top;\n",
              "    }\n",
              "\n",
              "    .dataframe thead th {\n",
              "        text-align: right;\n",
              "    }\n",
              "</style>\n",
              "<table border=\"1\" class=\"dataframe\">\n",
              "  <thead>\n",
              "    <tr style=\"text-align: right;\">\n",
              "      <th></th>\n",
              "      <th>0</th>\n",
              "    </tr>\n",
              "  </thead>\n",
              "  <tbody>\n",
              "    <tr>\n",
              "      <th>type_2</th>\n",
              "      <td>483</td>\n",
              "    </tr>\n",
              "    <tr>\n",
              "      <th>hp</th>\n",
              "      <td>106</td>\n",
              "    </tr>\n",
              "    <tr>\n",
              "      <th>defense</th>\n",
              "      <td>184</td>\n",
              "    </tr>\n",
              "  </tbody>\n",
              "</table>\n",
              "</div><br><label><b>dtype:</b> int64</label>"
            ]
          },
          "metadata": {},
          "execution_count": 33
        }
      ],
      "source": [
        "pokemon_df[nan_variables].isnull().sum()"
      ]
    },
    {
      "cell_type": "markdown",
      "metadata": {
        "id": "dy392WZSnHLh"
      },
      "source": [
        "### `NaN`s in the `type_2` variable"
      ]
    },
    {
      "cell_type": "markdown",
      "metadata": {
        "id": "9N033G3MnHLh"
      },
      "source": [
        "There is a significant number of observations with `NaN` / `null` value for the `type_2` variable. However, we know that missing values for `type_2` are intended (as opposed to randomly missing), since having a secondary type is optional for a Pokemon. As such, instead of removing these observations from the dataset, we can just set a *sentinel value* to identify these observations. For this, we can just set the string `\"None\"` as our sentinel value. Use the [`loc`](https://pandas.pydata.org/pandas-docs/stable/reference/api/pandas.DataFrame.loc.html) function to select and assign `\"None\"` as value for these variables of these observations"
      ]
    },
    {
      "cell_type": "code",
      "execution_count": 34,
      "metadata": {
        "id": "QSjcFHuwnHLh"
      },
      "outputs": [],
      "source": [
        "pokemon_df.loc[pokemon_df['type_2'].isnull(),'type_2'] = \"None\""
      ]
    },
    {
      "cell_type": "markdown",
      "metadata": {
        "id": "RTaHHtvBnHLi"
      },
      "source": [
        "Let's count the number of observations with the sentinel value"
      ]
    },
    {
      "cell_type": "code",
      "execution_count": 35,
      "metadata": {
        "id": "ppN7k1aLnHLi",
        "colab": {
          "base_uri": "https://localhost:8080/"
        },
        "outputId": "4a764ad2-14f7-453d-cab3-bfab07d7dd29"
      },
      "outputs": [
        {
          "output_type": "execute_result",
          "data": {
            "text/plain": [
              "(483,)"
            ]
          },
          "metadata": {},
          "execution_count": 35
        }
      ],
      "source": [
        "pokemon_df.loc[pokemon_df['type_2'] == \"None\", 'type_2'].shape"
      ]
    },
    {
      "cell_type": "markdown",
      "metadata": {
        "id": "11r7S3zYnHLi"
      },
      "source": [
        "### `NaN`s in the `hp` variable\n",
        "There is also a significant number of observations with `NaN` / `null` value for the `hp` variable. Instead of removing these observations from the dataset, we can just set a *sentinel value* to identify these observations. Since Pokemon stats cannot be a negative number, let's represent observations with no value for these variables as -1. Use the [`loc`](https://pandas.pydata.org/pandas-docs/stable/reference/api/pandas.DataFrame.loc.html) function to select and assign -1 as value for the `hp` variable of these observations"
      ]
    },
    {
      "cell_type": "code",
      "execution_count": 36,
      "metadata": {
        "id": "PdmaF4_snHLi"
      },
      "outputs": [],
      "source": [
        "pokemon_df1 = pokemon_df.copy()\n",
        "pokemon_df2 = pokemon_df.copy()"
      ]
    },
    {
      "cell_type": "code",
      "execution_count": 37,
      "metadata": {
        "id": "QVu-78UdnHLi"
      },
      "outputs": [],
      "source": [
        "pokemon_df1.loc[pokemon_df1['hp'].isnull(),'hp'] = -1"
      ]
    },
    {
      "cell_type": "markdown",
      "metadata": {
        "id": "H7zhz-C2nHLi"
      },
      "source": [
        "Let's check if there are any `NaN` / `null` values remaining for the `hp` variable."
      ]
    },
    {
      "cell_type": "code",
      "execution_count": 38,
      "metadata": {
        "id": "pwyq_5j5nHLi",
        "colab": {
          "base_uri": "https://localhost:8080/"
        },
        "outputId": "6be070c7-2ebe-496f-d800-a3026b7a78c5"
      },
      "outputs": [
        {
          "output_type": "execute_result",
          "data": {
            "text/plain": [
              "False"
            ]
          },
          "metadata": {},
          "execution_count": 38
        }
      ],
      "source": [
        "pokemon_df1['hp'].isnull().any()"
      ]
    },
    {
      "cell_type": "markdown",
      "metadata": {
        "id": "qA2jE92pnHLi"
      },
      "source": [
        "Alternatively, we can also use the [`fillna`](https://pandas.pydata.org/pandas-docs/stable/reference/api/pandas.DataFrame.fillna.html) function:"
      ]
    },
    {
      "cell_type": "code",
      "execution_count": 39,
      "metadata": {
        "id": "jzfkayqanHLk"
      },
      "outputs": [],
      "source": [
        "pokemon_df2['hp'] = pokemon_df2['hp'].fillna(-1)"
      ]
    },
    {
      "cell_type": "markdown",
      "metadata": {
        "id": "gIYZrsWFnHLk"
      },
      "source": [
        "Let's check if there are any `NaN` / `null` values remaining for the `hp` variable."
      ]
    },
    {
      "cell_type": "code",
      "execution_count": 40,
      "metadata": {
        "id": "3arYjm9RnHLk",
        "colab": {
          "base_uri": "https://localhost:8080/"
        },
        "outputId": "4bdaaf38-2970-449c-925a-1623cc4630d2"
      },
      "outputs": [
        {
          "output_type": "execute_result",
          "data": {
            "text/plain": [
              "False"
            ]
          },
          "metadata": {},
          "execution_count": 40
        }
      ],
      "source": [
        "# Write your code here\n",
        "pokemon_df2['hp'].isnull().any()"
      ]
    },
    {
      "cell_type": "markdown",
      "metadata": {
        "id": "XuhQTstfnHLl"
      },
      "source": [
        "Once again, let's update the main copy of the Pokemon dataframe with the cleaned hp variable."
      ]
    },
    {
      "cell_type": "code",
      "execution_count": 41,
      "metadata": {
        "id": "ejb64_jdnHLl"
      },
      "outputs": [],
      "source": [
        "pokemon_df['hp'] = pokemon_df1['hp']"
      ]
    },
    {
      "cell_type": "markdown",
      "metadata": {
        "id": "xeElmMo3nHLl"
      },
      "source": [
        "Let's count number of observations with the sentinel value."
      ]
    },
    {
      "cell_type": "code",
      "execution_count": 42,
      "metadata": {
        "id": "daFWsfv-nHLl",
        "colab": {
          "base_uri": "https://localhost:8080/"
        },
        "outputId": "ceec7fcb-fe65-47a1-8c89-33ed96f46c46"
      },
      "outputs": [
        {
          "output_type": "execute_result",
          "data": {
            "text/plain": [
              "106"
            ]
          },
          "metadata": {},
          "execution_count": 42
        }
      ],
      "source": [
        "# Write your code here\n",
        "(pokemon_df['hp'] == -1).sum()"
      ]
    },
    {
      "cell_type": "markdown",
      "metadata": {
        "id": "Za2b1IvGnHLl"
      },
      "source": [
        "**Checkpoint #12:** After cleaning, how many observations have a value equal to the sentinel value `-1` for the `hp` variable?\n",
        "\n",
        "106"
      ]
    },
    {
      "cell_type": "markdown",
      "metadata": {
        "id": "Ezv_qMFGnHLl"
      },
      "source": [
        "### `NaN`s in the `defense` variable\n",
        "Write the code below to replace missing values for the `defense` variable with -1. You may use any of the approaches previously stated."
      ]
    },
    {
      "cell_type": "code",
      "execution_count": 43,
      "metadata": {
        "id": "w5w9jp6rnHLl"
      },
      "outputs": [],
      "source": [
        "# Write your code here\n",
        "pokemon_df['defense'] = pokemon_df['defense'].fillna(-1)"
      ]
    },
    {
      "cell_type": "markdown",
      "metadata": {
        "id": "lvTzETM7nHLl"
      },
      "source": [
        "Let's count number of observations with the sentinel value."
      ]
    },
    {
      "cell_type": "code",
      "execution_count": 44,
      "metadata": {
        "id": "4Y8WxW4enHLl",
        "colab": {
          "base_uri": "https://localhost:8080/"
        },
        "outputId": "ef542e0e-33eb-4d2e-934a-db0bcdfe979a"
      },
      "outputs": [
        {
          "output_type": "execute_result",
          "data": {
            "text/plain": [
              "184"
            ]
          },
          "metadata": {},
          "execution_count": 44
        }
      ],
      "source": [
        "# Write your code here\n",
        "(pokemon_df['defense'] == -1).sum()"
      ]
    },
    {
      "cell_type": "markdown",
      "metadata": {
        "id": "Pszl6UzHnHLl"
      },
      "source": [
        "**Checkpoint #13:** After cleaning, how many observations have a value equal to the sentinel value of -1 for the `defense` variable?\n",
        "\n",
        "184"
      ]
    },
    {
      "cell_type": "markdown",
      "metadata": {
        "id": "XYg0clianHLl"
      },
      "source": [
        "## Further reading\n",
        "**Motivation for setting a sentinel value (as opposed to leaving it as NaN)**\n",
        "- This [article](https://www.residentmar.io/2016/06/12/null-and-missing-data-python.html) goes through the motivation for setting a sentinel value in much detail as well as the alternative approaches we may use in Python."
      ]
    }
  ],
  "metadata": {
    "kernelspec": {
      "display_name": "Python 3 (ipykernel)",
      "language": "python",
      "name": "python3"
    },
    "language_info": {
      "codemirror_mode": {
        "name": "ipython",
        "version": 3
      },
      "file_extension": ".py",
      "mimetype": "text/x-python",
      "name": "python",
      "nbconvert_exporter": "python",
      "pygments_lexer": "ipython3",
      "version": "3.9.12"
    },
    "colab": {
      "provenance": []
    }
  },
  "nbformat": 4,
  "nbformat_minor": 0
}